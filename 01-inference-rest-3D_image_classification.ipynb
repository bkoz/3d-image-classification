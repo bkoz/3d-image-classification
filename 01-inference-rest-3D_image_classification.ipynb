{
 "cells": [
  {
   "cell_type": "markdown",
   "metadata": {
    "id": "YZ1rtVkBamp6"
   },
   "source": [
    "# 3D Image Classification from CT Scans\n",
    "\n",
    "**Author:** [Hasib Zunair](https://twitter.com/hasibzunair)<br>\n",
    "**Date created:** 2020/09/23<br>\n",
    "**Last modified:** 2020/09/23<br>\n",
    "**Description:** Train a 3D convolutional neural network to predict presence of pneumonia."
   ]
  },
  {
   "cell_type": "markdown",
   "metadata": {
    "id": "yYvszHivamqA"
   },
   "source": [
    "## Introduction\n",
    "\n",
    "This example will show the steps needed to build a 3D convolutional neural network (CNN)\n",
    "to predict the presence of viral pneumonia in computer tomography (CT) scans. 2D CNNs are\n",
    "commonly used to process RGB images (3 channels). A 3D CNN is simply the 3D\n",
    "equivalent: it takes as input a 3D volume or a sequence of 2D frames (e.g. slices in a CT scan),\n",
    "3D CNNs are a powerful model for learning representations for volumetric data.\n",
    "\n",
    "## References\n",
    "\n",
    "- [A survey on Deep Learning Advances on Different 3D DataRepresentations](https://arxiv.org/pdf/1808.01462.pdf)\n",
    "- [VoxNet: A 3D Convolutional Neural Network for Real-Time Object Recognition](https://www.ri.cmu.edu/pub_files/2015/9/voxnet_maturana_scherer_iros15.pdf)\n",
    "- [FusionNet: 3D Object Classification Using MultipleData Representations](http://3ddl.cs.princeton.edu/2016/papers/Hegde_Zadeh.pdf)\n",
    "- [Uniformizing Techniques to Process CT scans with 3D CNNs for Tuberculosis Prediction](https://arxiv.org/abs/2007.13224)"
   ]
  },
  {
   "cell_type": "markdown",
   "metadata": {
    "id": "OvHzfu1vamqB"
   },
   "source": [
    "## Setup"
   ]
  },
  {
   "cell_type": "code",
   "execution_count": 1,
   "metadata": {
    "ExecuteTime": {
     "end_time": "2021-05-18T00:54:53.383450Z",
     "start_time": "2021-05-18T00:54:51.366598Z"
    }
   },
   "outputs": [],
   "source": [
    "!pip install nibabel scipy matplotlib -q"
   ]
  },
  {
   "cell_type": "code",
   "execution_count": 2,
   "metadata": {
    "ExecuteTime": {
     "end_time": "2021-05-18T00:54:54.801143Z",
     "start_time": "2021-05-18T00:54:53.385522Z"
    },
    "id": "sWdNBCoIamqB"
   },
   "outputs": [],
   "source": [
    "import os\n",
    "import zipfile\n",
    "import numpy as np\n",
    "import tensorflow as tf\n",
    "import logging\n",
    "from tensorflow import keras\n",
    "from tensorflow.keras import layers"
   ]
  },
  {
   "cell_type": "code",
   "execution_count": 3,
   "metadata": {
    "ExecuteTime": {
     "end_time": "2021-05-18T00:54:54.805193Z",
     "start_time": "2021-05-18T00:54:54.802909Z"
    }
   },
   "outputs": [],
   "source": [
    "logging.basicConfig(level=logging.INFO)"
   ]
  },
  {
   "cell_type": "code",
   "execution_count": 4,
   "metadata": {
    "ExecuteTime": {
     "end_time": "2021-05-18T00:54:55.658915Z",
     "start_time": "2021-05-18T00:54:54.807006Z"
    },
    "id": "Cw_K_rVZdz5n"
   },
   "outputs": [],
   "source": [
    "#\n",
    "# Load model from storage.\n",
    "#\n",
    "import requests\n",
    "url = \"https://koz.s3.amazonaws.com/models/3d_image_classification.h5\"\n",
    "model_file = '3d_image_classification.h5'\n",
    "\n",
    "filename = os.path.join(os.getcwd(), model_file)\n",
    "keras.utils.get_file(filename, url)\n",
    "\n",
    "model = keras.models.load_model(filename)"
   ]
  },
  {
   "cell_type": "code",
   "execution_count": 5,
   "metadata": {
    "ExecuteTime": {
     "end_time": "2021-05-18T00:55:00.375171Z",
     "start_time": "2021-05-18T00:54:55.660465Z"
    }
   },
   "outputs": [
    {
     "name": "stdout",
     "output_type": "stream",
     "text": [
      "Downloading data from https://koz.s3.amazonaws.com/data/ct-data.zip\n",
      "213024768/213021049 [==============================] - 28s 0us/step\n"
     ]
    }
   ],
   "source": [
    "#\n",
    "# Load volume data from storage.\n",
    "#\n",
    "url = \"https://koz.s3.amazonaws.com/data/ct-data.zip\"\n",
    "filename = os.path.join(os.getcwd(), \"ct-data.zip\")\n",
    "keras.utils.get_file(filename, url)\n",
    "\n",
    "# Unzip data in the newly created directory.\n",
    "with zipfile.ZipFile(\"ct-data.zip\", \"r\") as z_fp:\n",
    "    z_fp.extractall(\"./\")"
   ]
  },
  {
   "cell_type": "code",
   "execution_count": 6,
   "metadata": {
    "ExecuteTime": {
     "end_time": "2021-05-18T00:55:00.405059Z",
     "start_time": "2021-05-18T00:55:00.376708Z"
    },
    "id": "-4oxO95GamqD"
   },
   "outputs": [],
   "source": [
    "import nibabel as nib\n",
    "from scipy import ndimage\n",
    "\n",
    "def read_nifti_file(filepath):\n",
    "    \"\"\"Read and load volume\"\"\"\n",
    "    # Read file\n",
    "    scan = nib.load(filepath)\n",
    "    # Get raw data\n",
    "    scan = scan.get_fdata()\n",
    "    return scan\n"
   ]
  },
  {
   "cell_type": "markdown",
   "metadata": {
    "id": "U2vhqRjoamqJ"
   },
   "source": [
    "## Make predictions on a single CT scan"
   ]
  },
  {
   "cell_type": "code",
   "execution_count": 7,
   "metadata": {
    "ExecuteTime": {
     "end_time": "2021-05-18T00:59:14.463406Z",
     "start_time": "2021-05-18T00:59:08.706317Z"
    },
    "id": "bIgRUOt3amqJ"
   },
   "outputs": [
    {
     "name": "stderr",
     "output_type": "stream",
     "text": [
      "INFO:root:Prediction 0 = [0.8098432]\n",
      "INFO:root:Prediction 1 = [0.798264]\n",
      "INFO:root:Prediction 2 = [0.6138762]\n"
     ]
    }
   ],
   "source": [
    "import requests\n",
    "#\n",
    "# payload format\n",
    "# payload = {\"data\": {\"ndarray\": X.tolist()} }\n",
    "#\n",
    "\n",
    "for i in range(3):\n",
    "    filename = f'./data/volume{i}.nii.gz'\n",
    "    v = read_nifti_file(filename)\n",
    "    #\n",
    "    # Local prediction.\n",
    "    prediction = model.predict(np.expand_dims(v, axis=0))[0]\n",
    "    logging.info(f'Prediction {i} = {prediction}')\n",
    "    #\n",
    "\n",
    "    #\n",
    "    # Prediction via REST.\n",
    "    #\n",
    "#     print(f'Serializing and predicting volume {i}')\n",
    "#     payload = {\"data\": {\"ndarray\": v.tolist()} }\n",
    "#     r = requests.post('http://mymodel-mygroup-ml-mon.apps.ocp.2ff8.sandbox379.opentlc.com/api/v1.0/predictions', \n",
    "#                       json = payload)\n",
    "#     logging.debug(f'response: {r}')\n",
    "#     j = r.json()['data']['ndarray']\n",
    "#     print(f'Volume {i} prediction: {j}')\n",
    "    \n",
    "#     class_names = [\"normal\", \"abnormal\"]\n",
    "#     print(f'Volume : Prediction for pneumonia is {(prediction > 0.5)}, probability = {100 * prediction[0]:.1f}%, label = {class_names[volume]==1}')\n"
   ]
  },
  {
   "cell_type": "code",
   "execution_count": null,
   "metadata": {},
   "outputs": [],
   "source": []
  }
 ],
 "metadata": {
  "colab": {
   "collapsed_sections": [],
   "name": "3D_image_classification",
   "provenance": [],
   "toc_visible": true
  },
  "kernelspec": {
   "display_name": "Python 3",
   "language": "python",
   "name": "python3"
  },
  "language_info": {
   "codemirror_mode": {
    "name": "ipython",
    "version": 3
   },
   "file_extension": ".py",
   "mimetype": "text/x-python",
   "name": "python",
   "nbconvert_exporter": "python",
   "pygments_lexer": "ipython3",
   "version": "3.8.6"
  },
  "toc": {
   "base_numbering": 1,
   "nav_menu": {},
   "number_sections": true,
   "sideBar": true,
   "skip_h1_title": false,
   "title_cell": "Table of Contents",
   "title_sidebar": "Contents",
   "toc_cell": false,
   "toc_position": {},
   "toc_section_display": true,
   "toc_window_display": false
  }
 },
 "nbformat": 4,
 "nbformat_minor": 4
}
