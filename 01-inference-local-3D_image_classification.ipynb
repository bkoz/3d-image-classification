{
 "cells": [
  {
   "cell_type": "markdown",
   "metadata": {
    "id": "YZ1rtVkBamp6"
   },
   "source": [
    "# 3D Image Classification from CT Scans\n",
    "\n",
    "**Author:** [Hasib Zunair](https://twitter.com/hasibzunair)<br>\n",
    "**Date created:** 2020/09/23<br>\n",
    "**Last modified:** 2020/09/23<br>\n",
    "**Description:** Train a 3D convolutional neural network to predict presence of pneumonia."
   ]
  },
  {
   "cell_type": "markdown",
   "metadata": {
    "id": "yYvszHivamqA"
   },
   "source": [
    "## Introduction\n",
    "\n",
    "This example will show the steps needed to build a 3D convolutional neural network (CNN)\n",
    "to predict the presence of viral pneumonia in computer tomography (CT) scans. 2D CNNs are\n",
    "commonly used to process RGB images (3 channels). A 3D CNN is simply the 3D\n",
    "equivalent: it takes as input a 3D volume or a sequence of 2D frames (e.g. slices in a CT scan),\n",
    "3D CNNs are a powerful model for learning representations for volumetric data.\n",
    "\n",
    "## References\n",
    "\n",
    "- [A survey on Deep Learning Advances on Different 3D DataRepresentations](https://arxiv.org/pdf/1808.01462.pdf)\n",
    "- [VoxNet: A 3D Convolutional Neural Network for Real-Time Object Recognition](https://www.ri.cmu.edu/pub_files/2015/9/voxnet_maturana_scherer_iros15.pdf)\n",
    "- [FusionNet: 3D Object Classification Using MultipleData Representations](http://3ddl.cs.princeton.edu/2016/papers/Hegde_Zadeh.pdf)\n",
    "- [Uniformizing Techniques to Process CT scans with 3D CNNs for Tuberculosis Prediction](https://arxiv.org/abs/2007.13224)"
   ]
  },
  {
   "cell_type": "markdown",
   "metadata": {
    "id": "OvHzfu1vamqB"
   },
   "source": [
    "## Setup"
   ]
  },
  {
   "cell_type": "code",
   "execution_count": 13,
   "metadata": {
    "ExecuteTime": {
     "end_time": "2021-05-19T02:01:17.342805Z",
     "start_time": "2021-05-19T02:01:11.025019Z"
    }
   },
   "outputs": [],
   "source": [
    "!pip install pip --upgrade -q\n",
    "!pip install nibabel scipy matplotlib tensorflow -q"
   ]
  },
  {
   "cell_type": "code",
   "execution_count": 14,
   "metadata": {
    "ExecuteTime": {
     "end_time": "2021-05-19T02:01:17.349835Z",
     "start_time": "2021-05-19T02:01:17.345586Z"
    },
    "id": "sWdNBCoIamqB"
   },
   "outputs": [],
   "source": [
    "import os\n",
    "import zipfile\n",
    "import numpy as np\n",
    "import tensorflow as tf\n",
    "import logging\n",
    "from tensorflow import keras\n",
    "from tensorflow.keras import layers"
   ]
  },
  {
   "cell_type": "code",
   "execution_count": 15,
   "metadata": {
    "ExecuteTime": {
     "end_time": "2021-05-19T02:01:17.363113Z",
     "start_time": "2021-05-19T02:01:17.353428Z"
    }
   },
   "outputs": [],
   "source": [
    "logging.basicConfig(level=logging.INFO)"
   ]
  },
  {
   "cell_type": "code",
   "execution_count": 16,
   "metadata": {
    "ExecuteTime": {
     "end_time": "2021-05-19T02:01:17.657970Z",
     "start_time": "2021-05-19T02:01:17.365578Z"
    },
    "id": "Cw_K_rVZdz5n"
   },
   "outputs": [],
   "source": [
    "#\n",
    "# Load model from storage.\n",
    "#\n",
    "import requests\n",
    "url = \"https://koz.s3.amazonaws.com/models/3d_image_classification.h5\"\n",
    "model_file = '3d_image_classification.h5'\n",
    "\n",
    "filename = os.path.join(os.getcwd(), model_file)\n",
    "keras.utils.get_file(filename, url)\n",
    "\n",
    "model = keras.models.load_model(filename)"
   ]
  },
  {
   "cell_type": "code",
   "execution_count": 17,
   "metadata": {
    "ExecuteTime": {
     "end_time": "2021-05-19T02:01:18.133102Z",
     "start_time": "2021-05-19T02:01:17.660281Z"
    }
   },
   "outputs": [
    {
     "name": "stdout",
     "output_type": "stream",
     "text": [
      "Downloading data from https://koz.s3.amazonaws.com/data/ct-data.zip\n",
      "17408000/17402292 [==============================] - 0s 0us/step\n"
     ]
    }
   ],
   "source": [
    "#\n",
    "# Load volume data from storage.\n",
    "#\n",
    "url = \"https://koz.s3.amazonaws.com/data/ct-data.zip\"\n",
    "filename = os.path.join(os.getcwd(), \"ct-data.zip\")\n",
    "keras.utils.get_file(filename, url)\n",
    "\n",
    "# Unzip data in the newly created directory.\n",
    "with zipfile.ZipFile(\"ct-data.zip\", \"r\") as z_fp:\n",
    "    z_fp.extractall(\"./\")"
   ]
  },
  {
   "cell_type": "code",
   "execution_count": 18,
   "metadata": {
    "ExecuteTime": {
     "end_time": "2021-05-19T02:01:18.895839Z",
     "start_time": "2021-05-19T02:01:18.135648Z"
    }
   },
   "outputs": [],
   "source": [
    "!rm -f ct-data.zip"
   ]
  },
  {
   "cell_type": "code",
   "execution_count": 19,
   "metadata": {
    "ExecuteTime": {
     "end_time": "2021-05-19T02:01:18.902420Z",
     "start_time": "2021-05-19T02:01:18.898281Z"
    },
    "id": "-4oxO95GamqD"
   },
   "outputs": [],
   "source": [
    "import nibabel as nib\n",
    "from scipy import ndimage\n",
    "\n",
    "def read_nifti_file(filepath):\n",
    "    \"\"\"Read and load volume\"\"\"\n",
    "    # Read file\n",
    "    scan = nib.load(filepath)\n",
    "    # Get raw data\n",
    "    scan = scan.get_fdata()\n",
    "    return scan\n"
   ]
  },
  {
   "cell_type": "markdown",
   "metadata": {
    "id": "U2vhqRjoamqJ"
   },
   "source": [
    "## Make predictions on a single CT scan"
   ]
  },
  {
   "cell_type": "code",
   "execution_count": 20,
   "metadata": {
    "ExecuteTime": {
     "end_time": "2021-05-19T02:01:20.633809Z",
     "start_time": "2021-05-19T02:01:18.904522Z"
    },
    "id": "bIgRUOt3amqJ"
   },
   "outputs": [
    {
     "name": "stderr",
     "output_type": "stream",
     "text": [
      "2021-05-19 02:01:19,463 [267] INFO     root: Prediction 0 = [0.8098432]\n",
      "2021-05-19 02:01:19,751 [267] INFO     root: Prediction 1 = [0.798264]\n",
      "2021-05-19 02:01:20,064 [267] INFO     root: Prediction 2 = [0.6138762]\n",
      "2021-05-19 02:01:20,346 [267] INFO     root: Prediction 3 = [0.48922944]\n",
      "2021-05-19 02:01:20,630 [267] INFO     root: Prediction 4 = [0.9624293]\n"
     ]
    }
   ],
   "source": [
    "import requests\n",
    "#\n",
    "# payload format\n",
    "# payload = {\"data\": {\"ndarray\": X.tolist()} }\n",
    "#\n",
    "\n",
    "for i in range(5):\n",
    "    filename = f'./data/volume{i}.nii.gz'\n",
    "    v = read_nifti_file(filename)\n",
    "    #\n",
    "    # Local prediction.\n",
    "    prediction = model.predict(np.expand_dims(v, axis=0))[0]\n",
    "    logging.info(f'Prediction {i} = {prediction}')\n",
    "    #\n",
    "\n",
    "    #\n",
    "    # Prediction via REST.\n",
    "    #\n",
    "#     print(f'Serializing and predicting volume {i}')\n",
    "#     payload = {\"data\": {\"ndarray\": v.tolist()} }\n",
    "#     r = requests.post('http://mymodel-mygroup-ml-mon.apps.ocp.2ff8.sandbox379.opentlc.com/api/v1.0/predictions', \n",
    "#                       json = payload)\n",
    "#     logging.debug(f'response: {r}')\n",
    "#     j = r.json()['data']['ndarray']\n",
    "#     print(f'Volume {i} prediction: {j}')\n",
    "    \n",
    "#     class_names = [\"normal\", \"abnormal\"]\n",
    "#     print(f'Volume : Prediction for pneumonia is {(prediction > 0.5)}, probability = {100 * prediction[0]:.1f}%, label = {class_names[volume]==1}')\n"
   ]
  },
  {
   "cell_type": "code",
   "execution_count": null,
   "metadata": {},
   "outputs": [],
   "source": []
  }
 ],
 "metadata": {
  "colab": {
   "collapsed_sections": [],
   "name": "3D_image_classification",
   "provenance": [],
   "toc_visible": true
  },
  "kernelspec": {
   "display_name": "Python 3",
   "language": "python",
   "name": "python3"
  },
  "language_info": {
   "codemirror_mode": {
    "name": "ipython",
    "version": 3
   },
   "file_extension": ".py",
   "mimetype": "text/x-python",
   "name": "python",
   "nbconvert_exporter": "python",
   "pygments_lexer": "ipython3",
   "version": "3.8.6"
  },
  "toc": {
   "base_numbering": 1,
   "nav_menu": {},
   "number_sections": true,
   "sideBar": true,
   "skip_h1_title": false,
   "title_cell": "Table of Contents",
   "title_sidebar": "Contents",
   "toc_cell": false,
   "toc_position": {},
   "toc_section_display": true,
   "toc_window_display": false
  }
 },
 "nbformat": 4,
 "nbformat_minor": 4
}
